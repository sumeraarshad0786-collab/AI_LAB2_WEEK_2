{
 "cells": [
  {
   "cell_type": "markdown",
   "id": "f375ca3c-ac88-4318-ae27-cc7987936d18",
   "metadata": {},
   "source": [
    "# TASK1__Greater Number(with tie)"
   ]
  },
  {
   "cell_type": "code",
   "execution_count": 1,
   "id": "b10e1086-9e2c-4bd6-80e7-5bfa261b2f53",
   "metadata": {},
   "outputs": [
    {
     "name": "stdin",
     "output_type": "stream",
     "text": [
      "Enter first number:  6\n",
      "Enter second number:  7\n"
     ]
    },
    {
     "name": "stdout",
     "output_type": "stream",
     "text": [
      "Greater number: 7\n"
     ]
    }
   ],
   "source": [
    " # ---Task 1 : Greater Number ------\n",
    "# Input two integers and compare\n",
    "a = int(input(\"Enter first number: \"))\n",
    "b = int(input(\"Enter second number: \"))\n",
    "if a > b:\n",
    "    print(\"Greater number:\", a)\n",
    "elif b > a:\n",
    "    print(\"Greater number:\", b)\n",
    "else:\n",
    "    print(\"Both are equal:\", a)"
   ]
  },
  {
   "cell_type": "markdown",
   "id": "0422f757-28cf-4b67-933c-f1c3dde42ed5",
   "metadata": {},
   "source": [
    "# Task2__Grading System"
   ]
  },
  {
   "cell_type": "code",
   "execution_count": 2,
   "id": "304fb2bc-0fe7-4001-bc79-14231a24e268",
   "metadata": {},
   "outputs": [
    {
     "name": "stdin",
     "output_type": "stream",
     "text": [
      "Enter marks (0-100):  80\n"
     ]
    },
    {
     "name": "stdout",
     "output_type": "stream",
     "text": [
      "Grade A - Excellent\n"
     ]
    }
   ],
   "source": [
    "# ---Task 2 : Grading System\n",
    "# Input marks (0-100) and print grade\n",
    "marks = float(input(\"Enter marks (0-100): \"))\n",
    "if marks < 0 or marks > 100:\n",
    "    print(\"Invalid marks. Please enteer between 0 and 100.\")\n",
    "elif marks >=80:\n",
    "    print(\"Grade A - Excellent\")\n",
    "elif marks >=60:\n",
    "     print(\"Grade B - Good\")\n",
    "elif marks >=50:\n",
    "    print(\"Grade C - Pass\")\n",
    "else:\n",
    "    print(\"Fail - Needs Improvement\")"
   ]
  },
  {
   "cell_type": "code",
   "execution_count": 3,
   "id": "30d8773f-6c59-4e34-9caf-0fad473c20d4",
   "metadata": {},
   "outputs": [
    {
     "name": "stdin",
     "output_type": "stream",
     "text": [
      "Enter marks (0-100):  45\n"
     ]
    },
    {
     "name": "stdout",
     "output_type": "stream",
     "text": [
      "Fail - Needs Improvement\n"
     ]
    }
   ],
   "source": [
    "# ---Task 2 : Grading System\n",
    "# Input marks (0-100) and print grade\n",
    "marks = int(input(\"Enter marks (0-100): \"))\n",
    "if marks < 0 or marks > 100:\n",
    "    print(\"Invalid marks. Please enteer between 0 and 100.\")\n",
    "elif marks >=80:\n",
    "    print(\"Grade A - Excellent\")\n",
    "elif marks >=60:\n",
    "     print(\"Grade B - Good\")\n",
    "elif marks >=50:\n",
    "    print(\"Grade C - Pass\")\n",
    "else:\n",
    "    print(\"Fail - Needs Improvement\")"
   ]
  },
  {
   "cell_type": "markdown",
   "id": "26fb759b-314b-4711-9805-58ac73feb133",
   "metadata": {},
   "source": [
    "# Task3__Even or Odd(single number)"
   ]
  },
  {
   "cell_type": "code",
   "execution_count": 4,
   "id": "d37a53b5-2b7a-467b-9da7-faf0721c7c2a",
   "metadata": {},
   "outputs": [
    {
     "name": "stdin",
     "output_type": "stream",
     "text": [
      "Enter a number:  8\n"
     ]
    },
    {
     "name": "stdout",
     "output_type": "stream",
     "text": [
      "8 is Even\n"
     ]
    }
   ],
   "source": [
    "# ---Task 3 : Even or Odd---\n",
    "n = int(input(\"Enter a number: \"))\n",
    "if n % 2 ==0:\n",
    "    print(n, \"is Even\")\n",
    "else:\n",
    "    print(n, \"is Odd\")"
   ]
  },
  {
   "cell_type": "code",
   "execution_count": 5,
   "id": "52658a6b-a871-4706-a5cf-654d3123b3ff",
   "metadata": {},
   "outputs": [
    {
     "name": "stdin",
     "output_type": "stream",
     "text": [
      "Enter a number:  9\n"
     ]
    },
    {
     "name": "stdout",
     "output_type": "stream",
     "text": [
      "9 is Odd\n"
     ]
    }
   ],
   "source": [
    "# ---Task 3 : Even or Odd---\n",
    "n = int(input(\"Enter a number: \"))\n",
    "if n % 2 ==0:\n",
    "    print(n, \"is Even\")\n",
    "else:\n",
    "    print(n, \"is Odd\")"
   ]
  },
  {
   "cell_type": "code",
   "execution_count": 6,
   "id": "610f2d61-95d2-4352-9ca4-6701727ac642",
   "metadata": {},
   "outputs": [
    {
     "name": "stdin",
     "output_type": "stream",
     "text": [
      "Enter a number:  4.5\n"
     ]
    },
    {
     "name": "stdout",
     "output_type": "stream",
     "text": [
      "4.5 is Odd\n"
     ]
    }
   ],
   "source": [
    "# ---Task 3 : Even or Odd---\n",
    "n = float(input(\"Enter a number: \"))\n",
    "if n % 2 ==0:\n",
    "    print(n, \"is Even\")\n",
    "else:\n",
    "    print(n, \"is Odd\")"
   ]
  },
  {
   "cell_type": "markdown",
   "id": "1aa4e1d5-34a8-4bcf-8814-2f264092015f",
   "metadata": {},
   "source": [
    "# Task4__Simple Login(3 attempts)"
   ]
  },
  {
   "cell_type": "code",
   "execution_count": 7,
   "id": "f68acbf4-7484-47fb-9bbd-db2098bba86b",
   "metadata": {},
   "outputs": [
    {
     "name": "stdin",
     "output_type": "stream",
     "text": [
      "Username:  admin\n",
      "Password:  1234\n"
     ]
    },
    {
     "name": "stdout",
     "output_type": "stream",
     "text": [
      "Login Successfully\n"
     ]
    }
   ],
   "source": [
    "# ---Task 4 : Simple Login(3 attempts)---\n",
    "# Hard-coded demo credentials\n",
    "CORRECT_USER = \"admin\"\n",
    "CORRECT_PASS = \"1234\"\n",
    "attempts = 3\n",
    "while attempts > 0:\n",
    "    u = input(\"Username: \")\n",
    "    p = input(\"Password: \")\n",
    "    if u == CORRECT_USER and p == CORRECT_PASS:\n",
    "        print(\"Login Successfully\")\n",
    "        break\n",
    "    else:\n",
    "        attempts -=1\n",
    "        print(\"Invalid credentials. Attempts left:\", attempts)\n",
    "if attempts == 0:\n",
    "    print(\"Account locked (demo). Please try later.\")"
   ]
  },
  {
   "cell_type": "markdown",
   "id": "f83419ee-e32d-4312-be27-b7263bec2bbe",
   "metadata": {},
   "source": [
    "# Task5__Multiplication Table(1 to 10)"
   ]
  },
  {
   "cell_type": "code",
   "execution_count": 8,
   "id": "3d53794f-06c1-45b6-ae67-c903551ad39b",
   "metadata": {},
   "outputs": [
    {
     "name": "stdin",
     "output_type": "stream",
     "text": [
      "Enter a number for table:  9\n"
     ]
    },
    {
     "name": "stdout",
     "output_type": "stream",
     "text": [
      "9 x 1 = 9\n",
      "9 x 2 = 18\n",
      "9 x 3 = 27\n",
      "9 x 4 = 36\n",
      "9 x 5 = 45\n",
      "9 x 6 = 54\n",
      "9 x 7 = 63\n",
      "9 x 8 = 72\n",
      "9 x 9 = 81\n",
      "9 x 10 = 90\n"
     ]
    }
   ],
   "source": [
    "# ---Task 5 : Multiplication Table(1 to 10)---\n",
    "num = int(input(\"Enter a number for table: \"))\n",
    "for i in range(1,11):\n",
    "    print(f\"{num} x {i} = {num * i}\")"
   ]
  },
  {
   "cell_type": "markdown",
   "id": "b39d8129-2594-438f-ba46-2a40b956a6b6",
   "metadata": {},
   "source": [
    "# Task6__Number Guessing Game (hints)"
   ]
  },
  {
   "cell_type": "code",
   "execution_count": null,
   "id": "5f9cae4f-2db4-4063-af6f-5b5541f38830",
   "metadata": {},
   "outputs": [
    {
     "name": "stdout",
     "output_type": "stream",
     "text": [
      "I'm thinking of a number between 1 and 20...\n"
     ]
    },
    {
     "name": "stdin",
     "output_type": "stream",
     "text": [
      "Your guess:  5\n"
     ]
    },
    {
     "name": "stdout",
     "output_type": "stream",
     "text": [
      "Too low, try again.\n"
     ]
    },
    {
     "name": "stdin",
     "output_type": "stream",
     "text": [
      "Your guess:  18\n"
     ]
    },
    {
     "name": "stdout",
     "output_type": "stream",
     "text": [
      "Too high, try again.\n"
     ]
    }
   ],
   "source": [
    "# ---Task 6 : Number Guessing Game---\n",
    "import random\n",
    "\n",
    "secret = random.randint(1, 20)  # secret number in [1,20]\n",
    "print(\"I'm thinking of a number between 1 and 20...\")\n",
    "\n",
    "while True:\n",
    "    guess = int(input(\"Your guess: \"))\n",
    "    if guess == secret:\n",
    "        print(\"Correct! You guessed it.\")\n",
    "        break\n",
    "    elif guess < secret:\n",
    "        print(\"Too low, try again.\")\n",
    "    else:\n",
    "        print(\"Too high, try again.\")"
   ]
  }
 ],
 "metadata": {
  "kernelspec": {
   "display_name": "Python 3 (ipykernel)",
   "language": "python",
   "name": "python3"
  },
  "language_info": {
   "codemirror_mode": {
    "name": "ipython",
    "version": 3
   },
   "file_extension": ".py",
   "mimetype": "text/x-python",
   "name": "python",
   "nbconvert_exporter": "python",
   "pygments_lexer": "ipython3",
   "version": "3.13.5"
  }
 },
 "nbformat": 4,
 "nbformat_minor": 5
}
